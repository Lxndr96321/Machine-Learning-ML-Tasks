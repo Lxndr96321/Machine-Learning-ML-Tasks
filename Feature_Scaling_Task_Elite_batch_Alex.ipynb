{
 "cells": [
  {
   "cell_type": "markdown",
   "id": "e148de73",
   "metadata": {},
   "source": [
    "# Featrue Scaling Machine Learning using Diamond Dataset"
   ]
  },
  {
   "cell_type": "code",
   "execution_count": 2,
   "id": "5eada835",
   "metadata": {},
   "outputs": [],
   "source": [
    "import pandas as pd\n",
    "import numpy as np\n",
    "import seaborn as sns\n",
    "import matplotlib.pyplot as plt\n",
    "\n"
   ]
  },
  {
   "cell_type": "markdown",
   "id": "aae37ac2",
   "metadata": {},
   "source": [
    "## Loading the dataset"
   ]
  },
  {
   "cell_type": "code",
   "execution_count": 3,
   "id": "1aa0d850",
   "metadata": {},
   "outputs": [],
   "source": [
    "df=pd.read_csv('Diamonds.csv')"
   ]
  },
  {
   "cell_type": "code",
   "execution_count": 4,
   "id": "c85d6481",
   "metadata": {},
   "outputs": [
    {
     "data": {
      "text/html": [
       "<div>\n",
       "<style scoped>\n",
       "    .dataframe tbody tr th:only-of-type {\n",
       "        vertical-align: middle;\n",
       "    }\n",
       "\n",
       "    .dataframe tbody tr th {\n",
       "        vertical-align: top;\n",
       "    }\n",
       "\n",
       "    .dataframe thead th {\n",
       "        text-align: right;\n",
       "    }\n",
       "</style>\n",
       "<table border=\"1\" class=\"dataframe\">\n",
       "  <thead>\n",
       "    <tr style=\"text-align: right;\">\n",
       "      <th></th>\n",
       "      <th>Unnamed: 0</th>\n",
       "      <th>carat</th>\n",
       "      <th>cut</th>\n",
       "      <th>color</th>\n",
       "      <th>clarity</th>\n",
       "      <th>depth</th>\n",
       "      <th>table</th>\n",
       "      <th>price</th>\n",
       "      <th>x</th>\n",
       "      <th>y</th>\n",
       "      <th>z</th>\n",
       "    </tr>\n",
       "  </thead>\n",
       "  <tbody>\n",
       "    <tr>\n",
       "      <th>0</th>\n",
       "      <td>1</td>\n",
       "      <td>0.23</td>\n",
       "      <td>Ideal</td>\n",
       "      <td>E</td>\n",
       "      <td>SI2</td>\n",
       "      <td>61.5</td>\n",
       "      <td>55.0</td>\n",
       "      <td>326</td>\n",
       "      <td>3.95</td>\n",
       "      <td>3.98</td>\n",
       "      <td>2.43</td>\n",
       "    </tr>\n",
       "    <tr>\n",
       "      <th>1</th>\n",
       "      <td>2</td>\n",
       "      <td>0.21</td>\n",
       "      <td>Premium</td>\n",
       "      <td>E</td>\n",
       "      <td>SI1</td>\n",
       "      <td>59.8</td>\n",
       "      <td>61.0</td>\n",
       "      <td>326</td>\n",
       "      <td>3.89</td>\n",
       "      <td>3.84</td>\n",
       "      <td>2.31</td>\n",
       "    </tr>\n",
       "    <tr>\n",
       "      <th>2</th>\n",
       "      <td>3</td>\n",
       "      <td>0.23</td>\n",
       "      <td>Good</td>\n",
       "      <td>E</td>\n",
       "      <td>VS1</td>\n",
       "      <td>56.9</td>\n",
       "      <td>65.0</td>\n",
       "      <td>327</td>\n",
       "      <td>4.05</td>\n",
       "      <td>4.07</td>\n",
       "      <td>2.31</td>\n",
       "    </tr>\n",
       "    <tr>\n",
       "      <th>3</th>\n",
       "      <td>4</td>\n",
       "      <td>0.29</td>\n",
       "      <td>Premium</td>\n",
       "      <td>I</td>\n",
       "      <td>VS2</td>\n",
       "      <td>62.4</td>\n",
       "      <td>58.0</td>\n",
       "      <td>334</td>\n",
       "      <td>4.20</td>\n",
       "      <td>4.23</td>\n",
       "      <td>2.63</td>\n",
       "    </tr>\n",
       "    <tr>\n",
       "      <th>4</th>\n",
       "      <td>5</td>\n",
       "      <td>0.31</td>\n",
       "      <td>Good</td>\n",
       "      <td>J</td>\n",
       "      <td>SI2</td>\n",
       "      <td>63.3</td>\n",
       "      <td>58.0</td>\n",
       "      <td>335</td>\n",
       "      <td>4.34</td>\n",
       "      <td>4.35</td>\n",
       "      <td>2.75</td>\n",
       "    </tr>\n",
       "  </tbody>\n",
       "</table>\n",
       "</div>"
      ],
      "text/plain": [
       "   Unnamed: 0  carat      cut color clarity  depth  table  price     x     y  \\\n",
       "0           1   0.23    Ideal     E     SI2   61.5   55.0    326  3.95  3.98   \n",
       "1           2   0.21  Premium     E     SI1   59.8   61.0    326  3.89  3.84   \n",
       "2           3   0.23     Good     E     VS1   56.9   65.0    327  4.05  4.07   \n",
       "3           4   0.29  Premium     I     VS2   62.4   58.0    334  4.20  4.23   \n",
       "4           5   0.31     Good     J     SI2   63.3   58.0    335  4.34  4.35   \n",
       "\n",
       "      z  \n",
       "0  2.43  \n",
       "1  2.31  \n",
       "2  2.31  \n",
       "3  2.63  \n",
       "4  2.75  "
      ]
     },
     "execution_count": 4,
     "metadata": {},
     "output_type": "execute_result"
    }
   ],
   "source": [
    "df.head()"
   ]
  },
  {
   "cell_type": "markdown",
   "id": "da5384a0",
   "metadata": {},
   "source": [
    "## Removing the the column 'Unnamed: 0'"
   ]
  },
  {
   "cell_type": "code",
   "execution_count": 5,
   "id": "1c3dc704",
   "metadata": {},
   "outputs": [],
   "source": [
    "df.drop(columns = ['Unnamed: 0'],inplace = True)\n"
   ]
  },
  {
   "cell_type": "code",
   "execution_count": 6,
   "id": "95e8659f",
   "metadata": {},
   "outputs": [
    {
     "data": {
      "text/html": [
       "<div>\n",
       "<style scoped>\n",
       "    .dataframe tbody tr th:only-of-type {\n",
       "        vertical-align: middle;\n",
       "    }\n",
       "\n",
       "    .dataframe tbody tr th {\n",
       "        vertical-align: top;\n",
       "    }\n",
       "\n",
       "    .dataframe thead th {\n",
       "        text-align: right;\n",
       "    }\n",
       "</style>\n",
       "<table border=\"1\" class=\"dataframe\">\n",
       "  <thead>\n",
       "    <tr style=\"text-align: right;\">\n",
       "      <th></th>\n",
       "      <th>carat</th>\n",
       "      <th>cut</th>\n",
       "      <th>color</th>\n",
       "      <th>clarity</th>\n",
       "      <th>depth</th>\n",
       "      <th>table</th>\n",
       "      <th>price</th>\n",
       "      <th>x</th>\n",
       "      <th>y</th>\n",
       "      <th>z</th>\n",
       "    </tr>\n",
       "  </thead>\n",
       "  <tbody>\n",
       "    <tr>\n",
       "      <th>0</th>\n",
       "      <td>0.23</td>\n",
       "      <td>Ideal</td>\n",
       "      <td>E</td>\n",
       "      <td>SI2</td>\n",
       "      <td>61.5</td>\n",
       "      <td>55.0</td>\n",
       "      <td>326</td>\n",
       "      <td>3.95</td>\n",
       "      <td>3.98</td>\n",
       "      <td>2.43</td>\n",
       "    </tr>\n",
       "    <tr>\n",
       "      <th>1</th>\n",
       "      <td>0.21</td>\n",
       "      <td>Premium</td>\n",
       "      <td>E</td>\n",
       "      <td>SI1</td>\n",
       "      <td>59.8</td>\n",
       "      <td>61.0</td>\n",
       "      <td>326</td>\n",
       "      <td>3.89</td>\n",
       "      <td>3.84</td>\n",
       "      <td>2.31</td>\n",
       "    </tr>\n",
       "    <tr>\n",
       "      <th>2</th>\n",
       "      <td>0.23</td>\n",
       "      <td>Good</td>\n",
       "      <td>E</td>\n",
       "      <td>VS1</td>\n",
       "      <td>56.9</td>\n",
       "      <td>65.0</td>\n",
       "      <td>327</td>\n",
       "      <td>4.05</td>\n",
       "      <td>4.07</td>\n",
       "      <td>2.31</td>\n",
       "    </tr>\n",
       "    <tr>\n",
       "      <th>3</th>\n",
       "      <td>0.29</td>\n",
       "      <td>Premium</td>\n",
       "      <td>I</td>\n",
       "      <td>VS2</td>\n",
       "      <td>62.4</td>\n",
       "      <td>58.0</td>\n",
       "      <td>334</td>\n",
       "      <td>4.20</td>\n",
       "      <td>4.23</td>\n",
       "      <td>2.63</td>\n",
       "    </tr>\n",
       "    <tr>\n",
       "      <th>4</th>\n",
       "      <td>0.31</td>\n",
       "      <td>Good</td>\n",
       "      <td>J</td>\n",
       "      <td>SI2</td>\n",
       "      <td>63.3</td>\n",
       "      <td>58.0</td>\n",
       "      <td>335</td>\n",
       "      <td>4.34</td>\n",
       "      <td>4.35</td>\n",
       "      <td>2.75</td>\n",
       "    </tr>\n",
       "  </tbody>\n",
       "</table>\n",
       "</div>"
      ],
      "text/plain": [
       "   carat      cut color clarity  depth  table  price     x     y     z\n",
       "0   0.23    Ideal     E     SI2   61.5   55.0    326  3.95  3.98  2.43\n",
       "1   0.21  Premium     E     SI1   59.8   61.0    326  3.89  3.84  2.31\n",
       "2   0.23     Good     E     VS1   56.9   65.0    327  4.05  4.07  2.31\n",
       "3   0.29  Premium     I     VS2   62.4   58.0    334  4.20  4.23  2.63\n",
       "4   0.31     Good     J     SI2   63.3   58.0    335  4.34  4.35  2.75"
      ]
     },
     "execution_count": 6,
     "metadata": {},
     "output_type": "execute_result"
    }
   ],
   "source": [
    "df.head()"
   ]
  },
  {
   "cell_type": "markdown",
   "id": "5c3c83fd",
   "metadata": {},
   "source": [
    "### Chekcing the shape of the dataset after removing the first column"
   ]
  },
  {
   "cell_type": "code",
   "execution_count": 7,
   "id": "c39083d1",
   "metadata": {},
   "outputs": [
    {
     "data": {
      "text/plain": [
       "(53940, 10)"
      ]
     },
     "execution_count": 7,
     "metadata": {},
     "output_type": "execute_result"
    }
   ],
   "source": [
    "df.shape"
   ]
  },
  {
   "cell_type": "markdown",
   "id": "4283eda9",
   "metadata": {},
   "source": [
    "### Checking the null values from the dataset"
   ]
  },
  {
   "cell_type": "code",
   "execution_count": 9,
   "id": "7b3b633f",
   "metadata": {},
   "outputs": [
    {
     "data": {
      "text/plain": [
       "carat      0\n",
       "cut        0\n",
       "color      0\n",
       "clarity    0\n",
       "depth      0\n",
       "table      0\n",
       "price      0\n",
       "x          0\n",
       "y          0\n",
       "z          0\n",
       "dtype: int64"
      ]
     },
     "execution_count": 9,
     "metadata": {},
     "output_type": "execute_result"
    }
   ],
   "source": [
    "df.isna().sum()\n"
   ]
  },
  {
   "cell_type": "markdown",
   "id": "e743b343",
   "metadata": {},
   "source": [
    "### No Null values found in the dataset"
   ]
  },
  {
   "cell_type": "markdown",
   "id": "67b6dbd5",
   "metadata": {},
   "source": [
    "### Checkcing the columns list"
   ]
  },
  {
   "cell_type": "code",
   "execution_count": 10,
   "id": "8fa2d672",
   "metadata": {},
   "outputs": [
    {
     "data": {
      "text/plain": [
       "Index(['carat', 'cut', 'color', 'clarity', 'depth', 'table', 'price', 'x', 'y',\n",
       "       'z'],\n",
       "      dtype='object')"
      ]
     },
     "execution_count": 10,
     "metadata": {},
     "output_type": "execute_result"
    }
   ],
   "source": [
    "df.columns"
   ]
  },
  {
   "cell_type": "markdown",
   "id": "51a9ee2a",
   "metadata": {},
   "source": [
    "# First step is spliting the data\n"
   ]
  },
  {
   "cell_type": "code",
   "execution_count": 11,
   "id": "056dd44e",
   "metadata": {},
   "outputs": [],
   "source": [
    "# ----------------------------\n",
    "\n",
    "Y = df['depth']\n",
    "X = df.drop(columns = 'depth')"
   ]
  },
  {
   "cell_type": "markdown",
   "id": "e5593622",
   "metadata": {},
   "source": [
    "### Now splitting the data train and test using sklearn train-test-split\n",
    "\n"
   ]
  },
  {
   "cell_type": "code",
   "execution_count": 12,
   "id": "55275887",
   "metadata": {},
   "outputs": [],
   "source": [
    "from sklearn.model_selection import train_test_split"
   ]
  },
  {
   "cell_type": "code",
   "execution_count": 13,
   "id": "9e4b250f",
   "metadata": {},
   "outputs": [
    {
     "data": {
      "text/html": [
       "<div>\n",
       "<style scoped>\n",
       "    .dataframe tbody tr th:only-of-type {\n",
       "        vertical-align: middle;\n",
       "    }\n",
       "\n",
       "    .dataframe tbody tr th {\n",
       "        vertical-align: top;\n",
       "    }\n",
       "\n",
       "    .dataframe thead th {\n",
       "        text-align: right;\n",
       "    }\n",
       "</style>\n",
       "<table border=\"1\" class=\"dataframe\">\n",
       "  <thead>\n",
       "    <tr style=\"text-align: right;\">\n",
       "      <th></th>\n",
       "      <th>carat</th>\n",
       "      <th>cut</th>\n",
       "      <th>color</th>\n",
       "      <th>clarity</th>\n",
       "      <th>depth</th>\n",
       "      <th>table</th>\n",
       "      <th>price</th>\n",
       "      <th>x</th>\n",
       "      <th>y</th>\n",
       "      <th>z</th>\n",
       "    </tr>\n",
       "  </thead>\n",
       "  <tbody>\n",
       "    <tr>\n",
       "      <th>0</th>\n",
       "      <td>0.23</td>\n",
       "      <td>Ideal</td>\n",
       "      <td>E</td>\n",
       "      <td>SI2</td>\n",
       "      <td>61.5</td>\n",
       "      <td>55.0</td>\n",
       "      <td>326</td>\n",
       "      <td>3.95</td>\n",
       "      <td>3.98</td>\n",
       "      <td>2.43</td>\n",
       "    </tr>\n",
       "    <tr>\n",
       "      <th>1</th>\n",
       "      <td>0.21</td>\n",
       "      <td>Premium</td>\n",
       "      <td>E</td>\n",
       "      <td>SI1</td>\n",
       "      <td>59.8</td>\n",
       "      <td>61.0</td>\n",
       "      <td>326</td>\n",
       "      <td>3.89</td>\n",
       "      <td>3.84</td>\n",
       "      <td>2.31</td>\n",
       "    </tr>\n",
       "    <tr>\n",
       "      <th>2</th>\n",
       "      <td>0.23</td>\n",
       "      <td>Good</td>\n",
       "      <td>E</td>\n",
       "      <td>VS1</td>\n",
       "      <td>56.9</td>\n",
       "      <td>65.0</td>\n",
       "      <td>327</td>\n",
       "      <td>4.05</td>\n",
       "      <td>4.07</td>\n",
       "      <td>2.31</td>\n",
       "    </tr>\n",
       "    <tr>\n",
       "      <th>3</th>\n",
       "      <td>0.29</td>\n",
       "      <td>Premium</td>\n",
       "      <td>I</td>\n",
       "      <td>VS2</td>\n",
       "      <td>62.4</td>\n",
       "      <td>58.0</td>\n",
       "      <td>334</td>\n",
       "      <td>4.20</td>\n",
       "      <td>4.23</td>\n",
       "      <td>2.63</td>\n",
       "    </tr>\n",
       "    <tr>\n",
       "      <th>4</th>\n",
       "      <td>0.31</td>\n",
       "      <td>Good</td>\n",
       "      <td>J</td>\n",
       "      <td>SI2</td>\n",
       "      <td>63.3</td>\n",
       "      <td>58.0</td>\n",
       "      <td>335</td>\n",
       "      <td>4.34</td>\n",
       "      <td>4.35</td>\n",
       "      <td>2.75</td>\n",
       "    </tr>\n",
       "  </tbody>\n",
       "</table>\n",
       "</div>"
      ],
      "text/plain": [
       "   carat      cut color clarity  depth  table  price     x     y     z\n",
       "0   0.23    Ideal     E     SI2   61.5   55.0    326  3.95  3.98  2.43\n",
       "1   0.21  Premium     E     SI1   59.8   61.0    326  3.89  3.84  2.31\n",
       "2   0.23     Good     E     VS1   56.9   65.0    327  4.05  4.07  2.31\n",
       "3   0.29  Premium     I     VS2   62.4   58.0    334  4.20  4.23  2.63\n",
       "4   0.31     Good     J     SI2   63.3   58.0    335  4.34  4.35  2.75"
      ]
     },
     "execution_count": 13,
     "metadata": {},
     "output_type": "execute_result"
    }
   ],
   "source": [
    "df.head()\n"
   ]
  },
  {
   "cell_type": "markdown",
   "id": "620a9196",
   "metadata": {},
   "source": [
    "### Now the data was seperated as categorical and conntinous trend."
   ]
  },
  {
   "cell_type": "code",
   "execution_count": 15,
   "id": "23091cc3",
   "metadata": {},
   "outputs": [],
   "source": [
    "\n",
    "X_cont = X[['carat','table','x','y','z']]\n",
    "X_catg = X[['cut','color','clarity']]"
   ]
  },
  {
   "cell_type": "code",
   "execution_count": 16,
   "id": "b6d62ad7",
   "metadata": {},
   "outputs": [],
   "source": [
    "X_cont_Train,X_cont_Test,X_catg_Train,X_catg_Test,Y_Train,Y_Test = train_test_split(X_cont , X_catg , Y,\n",
    "                                                                              test_size = 0.20,\n",
    "                                                                              random_state = 100)"
   ]
  },
  {
   "cell_type": "code",
   "execution_count": 17,
   "id": "245b2d62",
   "metadata": {},
   "outputs": [
    {
     "data": {
      "text/plain": [
       "((43152, 5), (10788, 5), (43152, 3), (10788, 3), 43152, 10788)"
      ]
     },
     "execution_count": 17,
     "metadata": {},
     "output_type": "execute_result"
    }
   ],
   "source": [
    "X_cont_Train.shape,X_cont_Test.shape,X_catg_Train.shape,X_catg_Test.shape,len(Y_Train),len(Y_Test)\n"
   ]
  },
  {
   "cell_type": "code",
   "execution_count": 18,
   "id": "a19abe65",
   "metadata": {},
   "outputs": [
    {
     "data": {
      "text/html": [
       "<div>\n",
       "<style scoped>\n",
       "    .dataframe tbody tr th:only-of-type {\n",
       "        vertical-align: middle;\n",
       "    }\n",
       "\n",
       "    .dataframe tbody tr th {\n",
       "        vertical-align: top;\n",
       "    }\n",
       "\n",
       "    .dataframe thead th {\n",
       "        text-align: right;\n",
       "    }\n",
       "</style>\n",
       "<table border=\"1\" class=\"dataframe\">\n",
       "  <thead>\n",
       "    <tr style=\"text-align: right;\">\n",
       "      <th></th>\n",
       "      <th>carat</th>\n",
       "      <th>table</th>\n",
       "      <th>x</th>\n",
       "      <th>y</th>\n",
       "      <th>z</th>\n",
       "    </tr>\n",
       "  </thead>\n",
       "  <tbody>\n",
       "    <tr>\n",
       "      <th>27187</th>\n",
       "      <td>2.01</td>\n",
       "      <td>59.0</td>\n",
       "      <td>8.18</td>\n",
       "      <td>8.12</td>\n",
       "      <td>4.91</td>\n",
       "    </tr>\n",
       "    <tr>\n",
       "      <th>3118</th>\n",
       "      <td>0.79</td>\n",
       "      <td>55.9</td>\n",
       "      <td>5.88</td>\n",
       "      <td>5.95</td>\n",
       "      <td>3.67</td>\n",
       "    </tr>\n",
       "    <tr>\n",
       "      <th>49238</th>\n",
       "      <td>0.64</td>\n",
       "      <td>55.0</td>\n",
       "      <td>5.58</td>\n",
       "      <td>5.61</td>\n",
       "      <td>3.43</td>\n",
       "    </tr>\n",
       "    <tr>\n",
       "      <th>53575</th>\n",
       "      <td>0.70</td>\n",
       "      <td>56.0</td>\n",
       "      <td>5.73</td>\n",
       "      <td>5.63</td>\n",
       "      <td>3.56</td>\n",
       "    </tr>\n",
       "    <tr>\n",
       "      <th>29795</th>\n",
       "      <td>0.30</td>\n",
       "      <td>58.0</td>\n",
       "      <td>4.32</td>\n",
       "      <td>4.29</td>\n",
       "      <td>2.65</td>\n",
       "    </tr>\n",
       "    <tr>\n",
       "      <th>...</th>\n",
       "      <td>...</td>\n",
       "      <td>...</td>\n",
       "      <td>...</td>\n",
       "      <td>...</td>\n",
       "      <td>...</td>\n",
       "    </tr>\n",
       "    <tr>\n",
       "      <th>16304</th>\n",
       "      <td>1.07</td>\n",
       "      <td>59.0</td>\n",
       "      <td>6.49</td>\n",
       "      <td>6.52</td>\n",
       "      <td>4.09</td>\n",
       "    </tr>\n",
       "    <tr>\n",
       "      <th>79</th>\n",
       "      <td>0.26</td>\n",
       "      <td>59.0</td>\n",
       "      <td>4.06</td>\n",
       "      <td>4.09</td>\n",
       "      <td>2.55</td>\n",
       "    </tr>\n",
       "    <tr>\n",
       "      <th>12119</th>\n",
       "      <td>0.91</td>\n",
       "      <td>58.0</td>\n",
       "      <td>6.24</td>\n",
       "      <td>6.16</td>\n",
       "      <td>3.83</td>\n",
       "    </tr>\n",
       "    <tr>\n",
       "      <th>14147</th>\n",
       "      <td>1.25</td>\n",
       "      <td>58.0</td>\n",
       "      <td>6.89</td>\n",
       "      <td>6.85</td>\n",
       "      <td>4.29</td>\n",
       "    </tr>\n",
       "    <tr>\n",
       "      <th>38408</th>\n",
       "      <td>0.35</td>\n",
       "      <td>56.0</td>\n",
       "      <td>4.51</td>\n",
       "      <td>4.47</td>\n",
       "      <td>2.79</td>\n",
       "    </tr>\n",
       "  </tbody>\n",
       "</table>\n",
       "<p>43152 rows × 5 columns</p>\n",
       "</div>"
      ],
      "text/plain": [
       "       carat  table     x     y     z\n",
       "27187   2.01   59.0  8.18  8.12  4.91\n",
       "3118    0.79   55.9  5.88  5.95  3.67\n",
       "49238   0.64   55.0  5.58  5.61  3.43\n",
       "53575   0.70   56.0  5.73  5.63  3.56\n",
       "29795   0.30   58.0  4.32  4.29  2.65\n",
       "...      ...    ...   ...   ...   ...\n",
       "16304   1.07   59.0  6.49  6.52  4.09\n",
       "79      0.26   59.0  4.06  4.09  2.55\n",
       "12119   0.91   58.0  6.24  6.16  3.83\n",
       "14147   1.25   58.0  6.89  6.85  4.29\n",
       "38408   0.35   56.0  4.51  4.47  2.79\n",
       "\n",
       "[43152 rows x 5 columns]"
      ]
     },
     "execution_count": 18,
     "metadata": {},
     "output_type": "execute_result"
    }
   ],
   "source": [
    "X_cont_Train\n"
   ]
  },
  {
   "cell_type": "markdown",
   "id": "ae1eb82f",
   "metadata": {},
   "source": [
    "### The arrays were copied in the form of train data and test data"
   ]
  },
  {
   "cell_type": "code",
   "execution_count": 20,
   "id": "79115f06",
   "metadata": {},
   "outputs": [],
   "source": [
    "before_Norm_Train = X_cont_Train.copy()\n",
    "before_Norm_Test = X_cont_Test.copy()"
   ]
  },
  {
   "cell_type": "markdown",
   "id": "68acec72",
   "metadata": {},
   "source": [
    "### By applying the normalization technique We got the below values:"
   ]
  },
  {
   "cell_type": "code",
   "execution_count": 21,
   "id": "a2652ede",
   "metadata": {},
   "outputs": [
    {
     "data": {
      "text/plain": [
       "array([[0.37629938, 0.30769231, 0.76163873, 0.13786078, 0.60918114],\n",
       "       [0.12266112, 0.24807692, 0.54748603, 0.10101868, 0.45533499],\n",
       "       [0.09147609, 0.23076923, 0.51955307, 0.09524618, 0.42555831],\n",
       "       ...,\n",
       "       [0.14760915, 0.28846154, 0.58100559, 0.10458404, 0.4751861 ],\n",
       "       [0.21829522, 0.28846154, 0.641527  , 0.11629881, 0.53225806],\n",
       "       [0.03118503, 0.25      , 0.41992551, 0.07589134, 0.34615385]])"
      ]
     },
     "execution_count": 21,
     "metadata": {},
     "output_type": "execute_result"
    }
   ],
   "source": [
    "from sklearn.preprocessing import MinMaxScaler\n",
    "normScaler = MinMaxScaler()\n",
    "normScaler.fit_transform(X_cont_Train)"
   ]
  },
  {
   "cell_type": "markdown",
   "id": "9ac0719f",
   "metadata": {},
   "source": [
    "### Next step is to convert the above array into a DataFrame"
   ]
  },
  {
   "cell_type": "code",
   "execution_count": 22,
   "id": "0676a4c7",
   "metadata": {},
   "outputs": [
    {
     "data": {
      "text/html": [
       "<div>\n",
       "<style scoped>\n",
       "    .dataframe tbody tr th:only-of-type {\n",
       "        vertical-align: middle;\n",
       "    }\n",
       "\n",
       "    .dataframe tbody tr th {\n",
       "        vertical-align: top;\n",
       "    }\n",
       "\n",
       "    .dataframe thead th {\n",
       "        text-align: right;\n",
       "    }\n",
       "</style>\n",
       "<table border=\"1\" class=\"dataframe\">\n",
       "  <thead>\n",
       "    <tr style=\"text-align: right;\">\n",
       "      <th></th>\n",
       "      <th>carat</th>\n",
       "      <th>table</th>\n",
       "      <th>x</th>\n",
       "      <th>y</th>\n",
       "      <th>z</th>\n",
       "    </tr>\n",
       "  </thead>\n",
       "  <tbody>\n",
       "    <tr>\n",
       "      <th>27187</th>\n",
       "      <td>0.376299</td>\n",
       "      <td>0.307692</td>\n",
       "      <td>0.761639</td>\n",
       "      <td>0.137861</td>\n",
       "      <td>0.609181</td>\n",
       "    </tr>\n",
       "    <tr>\n",
       "      <th>3118</th>\n",
       "      <td>0.122661</td>\n",
       "      <td>0.248077</td>\n",
       "      <td>0.547486</td>\n",
       "      <td>0.101019</td>\n",
       "      <td>0.455335</td>\n",
       "    </tr>\n",
       "    <tr>\n",
       "      <th>49238</th>\n",
       "      <td>0.091476</td>\n",
       "      <td>0.230769</td>\n",
       "      <td>0.519553</td>\n",
       "      <td>0.095246</td>\n",
       "      <td>0.425558</td>\n",
       "    </tr>\n",
       "    <tr>\n",
       "      <th>53575</th>\n",
       "      <td>0.103950</td>\n",
       "      <td>0.250000</td>\n",
       "      <td>0.533520</td>\n",
       "      <td>0.095586</td>\n",
       "      <td>0.441687</td>\n",
       "    </tr>\n",
       "    <tr>\n",
       "      <th>29795</th>\n",
       "      <td>0.020790</td>\n",
       "      <td>0.288462</td>\n",
       "      <td>0.402235</td>\n",
       "      <td>0.072835</td>\n",
       "      <td>0.328784</td>\n",
       "    </tr>\n",
       "    <tr>\n",
       "      <th>...</th>\n",
       "      <td>...</td>\n",
       "      <td>...</td>\n",
       "      <td>...</td>\n",
       "      <td>...</td>\n",
       "      <td>...</td>\n",
       "    </tr>\n",
       "    <tr>\n",
       "      <th>16304</th>\n",
       "      <td>0.180873</td>\n",
       "      <td>0.307692</td>\n",
       "      <td>0.604283</td>\n",
       "      <td>0.110696</td>\n",
       "      <td>0.507444</td>\n",
       "    </tr>\n",
       "    <tr>\n",
       "      <th>79</th>\n",
       "      <td>0.012474</td>\n",
       "      <td>0.307692</td>\n",
       "      <td>0.378026</td>\n",
       "      <td>0.069440</td>\n",
       "      <td>0.316377</td>\n",
       "    </tr>\n",
       "    <tr>\n",
       "      <th>12119</th>\n",
       "      <td>0.147609</td>\n",
       "      <td>0.288462</td>\n",
       "      <td>0.581006</td>\n",
       "      <td>0.104584</td>\n",
       "      <td>0.475186</td>\n",
       "    </tr>\n",
       "    <tr>\n",
       "      <th>14147</th>\n",
       "      <td>0.218295</td>\n",
       "      <td>0.288462</td>\n",
       "      <td>0.641527</td>\n",
       "      <td>0.116299</td>\n",
       "      <td>0.532258</td>\n",
       "    </tr>\n",
       "    <tr>\n",
       "      <th>38408</th>\n",
       "      <td>0.031185</td>\n",
       "      <td>0.250000</td>\n",
       "      <td>0.419926</td>\n",
       "      <td>0.075891</td>\n",
       "      <td>0.346154</td>\n",
       "    </tr>\n",
       "  </tbody>\n",
       "</table>\n",
       "<p>43152 rows × 5 columns</p>\n",
       "</div>"
      ],
      "text/plain": [
       "          carat     table         x         y         z\n",
       "27187  0.376299  0.307692  0.761639  0.137861  0.609181\n",
       "3118   0.122661  0.248077  0.547486  0.101019  0.455335\n",
       "49238  0.091476  0.230769  0.519553  0.095246  0.425558\n",
       "53575  0.103950  0.250000  0.533520  0.095586  0.441687\n",
       "29795  0.020790  0.288462  0.402235  0.072835  0.328784\n",
       "...         ...       ...       ...       ...       ...\n",
       "16304  0.180873  0.307692  0.604283  0.110696  0.507444\n",
       "79     0.012474  0.307692  0.378026  0.069440  0.316377\n",
       "12119  0.147609  0.288462  0.581006  0.104584  0.475186\n",
       "14147  0.218295  0.288462  0.641527  0.116299  0.532258\n",
       "38408  0.031185  0.250000  0.419926  0.075891  0.346154\n",
       "\n",
       "[43152 rows x 5 columns]"
      ]
     },
     "execution_count": 22,
     "metadata": {},
     "output_type": "execute_result"
    }
   ],
   "source": [
    "X_cont_NormTrain = pd.DataFrame(normScaler.fit_transform(X_cont_Train),\n",
    "                                columns = X_cont_Train.columns,\n",
    "                                index = X_cont_Train.index)\n",
    "\n",
    "X_cont_NormTrain"
   ]
  },
  {
   "cell_type": "markdown",
   "id": "907b647f",
   "metadata": {},
   "source": [
    "### The arrays distribution was compared 'before scaling' and 'after scaling' using Histrogram and KDE plot"
   ]
  },
  {
   "cell_type": "code",
   "execution_count": 23,
   "id": "80d0d598",
   "metadata": {},
   "outputs": [],
   "source": [
    "X_cont_norm_Test = pd.DataFrame(normScaler.fit_transform(X_cont_Test),\n",
    "                                columns = X_cont_Test.columns,\n",
    "                                index = X_cont_Test.index)"
   ]
  },
  {
   "cell_type": "code",
   "execution_count": 24,
   "id": "a153f421",
   "metadata": {},
   "outputs": [
    {
     "data": {
      "text/html": [
       "<div>\n",
       "<style scoped>\n",
       "    .dataframe tbody tr th:only-of-type {\n",
       "        vertical-align: middle;\n",
       "    }\n",
       "\n",
       "    .dataframe tbody tr th {\n",
       "        vertical-align: top;\n",
       "    }\n",
       "\n",
       "    .dataframe thead th {\n",
       "        text-align: right;\n",
       "    }\n",
       "</style>\n",
       "<table border=\"1\" class=\"dataframe\">\n",
       "  <thead>\n",
       "    <tr style=\"text-align: right;\">\n",
       "      <th></th>\n",
       "      <th>carat</th>\n",
       "      <th>table</th>\n",
       "      <th>x</th>\n",
       "      <th>y</th>\n",
       "      <th>z</th>\n",
       "    </tr>\n",
       "  </thead>\n",
       "  <tbody>\n",
       "    <tr>\n",
       "      <th>52264</th>\n",
       "      <td>0.094148</td>\n",
       "      <td>0.296296</td>\n",
       "      <td>0.535</td>\n",
       "      <td>0.540102</td>\n",
       "      <td>0.103145</td>\n",
       "    </tr>\n",
       "    <tr>\n",
       "      <th>21073</th>\n",
       "      <td>0.244275</td>\n",
       "      <td>0.222222</td>\n",
       "      <td>0.675</td>\n",
       "      <td>0.691371</td>\n",
       "      <td>0.131132</td>\n",
       "    </tr>\n",
       "    <tr>\n",
       "      <th>42161</th>\n",
       "      <td>0.078880</td>\n",
       "      <td>0.333333</td>\n",
       "      <td>0.505</td>\n",
       "      <td>0.515736</td>\n",
       "      <td>0.100629</td>\n",
       "    </tr>\n",
       "    <tr>\n",
       "      <th>35974</th>\n",
       "      <td>0.055980</td>\n",
       "      <td>0.259259</td>\n",
       "      <td>0.483</td>\n",
       "      <td>0.494416</td>\n",
       "      <td>0.092453</td>\n",
       "    </tr>\n",
       "    <tr>\n",
       "      <th>7641</th>\n",
       "      <td>0.152672</td>\n",
       "      <td>0.333333</td>\n",
       "      <td>0.589</td>\n",
       "      <td>0.602030</td>\n",
       "      <td>0.116352</td>\n",
       "    </tr>\n",
       "    <tr>\n",
       "      <th>...</th>\n",
       "      <td>...</td>\n",
       "      <td>...</td>\n",
       "      <td>...</td>\n",
       "      <td>...</td>\n",
       "      <td>...</td>\n",
       "    </tr>\n",
       "    <tr>\n",
       "      <th>17694</th>\n",
       "      <td>0.256997</td>\n",
       "      <td>0.222222</td>\n",
       "      <td>0.679</td>\n",
       "      <td>0.693401</td>\n",
       "      <td>0.133019</td>\n",
       "    </tr>\n",
       "    <tr>\n",
       "      <th>22403</th>\n",
       "      <td>0.351145</td>\n",
       "      <td>0.370370</td>\n",
       "      <td>0.744</td>\n",
       "      <td>0.763452</td>\n",
       "      <td>0.143711</td>\n",
       "    </tr>\n",
       "    <tr>\n",
       "      <th>53573</th>\n",
       "      <td>0.127226</td>\n",
       "      <td>0.296296</td>\n",
       "      <td>0.571</td>\n",
       "      <td>0.570558</td>\n",
       "      <td>0.111950</td>\n",
       "    </tr>\n",
       "    <tr>\n",
       "      <th>7941</th>\n",
       "      <td>0.162850</td>\n",
       "      <td>0.370370</td>\n",
       "      <td>0.616</td>\n",
       "      <td>0.622335</td>\n",
       "      <td>0.115409</td>\n",
       "    </tr>\n",
       "    <tr>\n",
       "      <th>2838</th>\n",
       "      <td>0.193384</td>\n",
       "      <td>0.370370</td>\n",
       "      <td>0.640</td>\n",
       "      <td>0.645685</td>\n",
       "      <td>0.121069</td>\n",
       "    </tr>\n",
       "  </tbody>\n",
       "</table>\n",
       "<p>10788 rows × 5 columns</p>\n",
       "</div>"
      ],
      "text/plain": [
       "          carat     table      x         y         z\n",
       "52264  0.094148  0.296296  0.535  0.540102  0.103145\n",
       "21073  0.244275  0.222222  0.675  0.691371  0.131132\n",
       "42161  0.078880  0.333333  0.505  0.515736  0.100629\n",
       "35974  0.055980  0.259259  0.483  0.494416  0.092453\n",
       "7641   0.152672  0.333333  0.589  0.602030  0.116352\n",
       "...         ...       ...    ...       ...       ...\n",
       "17694  0.256997  0.222222  0.679  0.693401  0.133019\n",
       "22403  0.351145  0.370370  0.744  0.763452  0.143711\n",
       "53573  0.127226  0.296296  0.571  0.570558  0.111950\n",
       "7941   0.162850  0.370370  0.616  0.622335  0.115409\n",
       "2838   0.193384  0.370370  0.640  0.645685  0.121069\n",
       "\n",
       "[10788 rows x 5 columns]"
      ]
     },
     "execution_count": 24,
     "metadata": {},
     "output_type": "execute_result"
    }
   ],
   "source": [
    "X_cont_norm_Test\n"
   ]
  },
  {
   "cell_type": "markdown",
   "id": "bc776238",
   "metadata": {},
   "source": [
    "### Finally the saved dataframe was plotted using a histogramd and a KDE Plot"
   ]
  },
  {
   "cell_type": "code",
   "execution_count": 26,
   "id": "7e2e81bb",
   "metadata": {},
   "outputs": [
    {
     "data": {
      "text/plain": [
       "<Axes: ylabel='Count'>"
      ]
     },
     "execution_count": 26,
     "metadata": {},
     "output_type": "execute_result"
    },
    {
     "data": {
      "image/png": "[encoded data removed]",
      "text/plain": [
       "<Figure size 640x480 with 1 Axes>"
      ]
     },
     "metadata": {},
     "output_type": "display_data"
    }
   ],
   "source": [
    "import seaborn as sns\n",
    "sns.histplot(before_Norm_Train,kde = True)"
   ]
  },
  {
   "cell_type": "code",
   "execution_count": 29,
   "id": "377d8d60",
   "metadata": {},
   "outputs": [
    {
     "data": {
      "text/plain": [
       "<Axes: ylabel='Count'>"
      ]
     },
     "execution_count": 29,
     "metadata": {},
     "output_type": "execute_result"
    },
    {
     "data": {
      "image/png": "[encoded data removed]",
      "text/plain": [
       "<Figure size 640x480 with 1 Axes>"
      ]
     },
     "metadata": {},
     "output_type": "display_data"
    }
   ],
   "source": [
    "import seaborn as sns\n",
    "sns.histplot(X_cont_NormTrain,kde = True)"
   ]
  },
  {
   "cell_type": "markdown",
   "id": "13ea19f6",
   "metadata": {},
   "source": [
    "### To be continued"
   ]
  },
  {
   "cell_type": "code",
   "execution_count": null,
   "id": "62cc655e",
   "metadata": {},
   "outputs": [],
   "source": []
  }
 ],
 "metadata": {
  "kernelspec": {
   "display_name": "Python 3 (ipykernel)",
   "language": "python",
   "name": "python3"
  },
  "language_info": {
   "codemirror_mode": {
    "name": "ipython",
    "version": 3
   },
   "file_extension": ".py",
   "mimetype": "text/x-python",
   "name": "python",
   "nbconvert_exporter": "python",
   "pygments_lexer": "ipython3",
   "version": "3.10.9"
  }
 },
 "nbformat": 4,
 "nbformat_minor": 5
}
