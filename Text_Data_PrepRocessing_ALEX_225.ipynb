{
 "cells": [
  {
   "cell_type": "code",
   "execution_count": 24,
   "id": "d083c8ab",
   "metadata": {},
   "outputs": [],
   "source": [
    "import numpy as np, pandas as pd\n",
    "import regex as re"
   ]
  },
  {
   "cell_type": "code",
   "execution_count": 25,
   "id": "726423ab",
   "metadata": {},
   "outputs": [],
   "source": [
    "doc_0 = ''' Peter<b>, Piper picked a peck of pickled peppers;\n",
    "A peck of pickled peppers Peter Piper picked;\n",
    "If Peter Piper picked a peck of pickled peppers,\n",
    "Where’s the peck of pickled peppers Peter Piper picked.'''"
   ]
  },
  {
   "cell_type": "code",
   "execution_count": 26,
   "id": "281410f5",
   "metadata": {},
   "outputs": [],
   "source": [
    "doc_1='''1234567How much wood would a woodchuck chuck\n",
    "if a woodchuck could chuck wood?\n",
    "He would chuck, he would, as much as he could,\n",
    "and chuck as much wood as a woodchuck would\n",
    "if a woodchuck could chuck wood'''"
   ]
  },
  {
   "cell_type": "code",
   "execution_count": 27,
   "id": "f61a9211",
   "metadata": {},
   "outputs": [],
   "source": [
    "doc_2='''She sells seashells on the seashore.\n",
    "The shells she sells are seashells, I’m sure.\n",
    "And if she sells seashells on the seashore,\n",
    "Then I’m sure she sells seashore shells.'''"
   ]
  },
  {
   "cell_type": "code",
   "execution_count": 28,
   "id": "42ddc11a",
   "metadata": {},
   "outputs": [],
   "source": [
    "doc_3='''Birdie birdie in the sky laid a turdie in my eye.\n",
    "If cows could fly I’d have a cow pie in my eye.'''"
   ]
  },
  {
   "cell_type": "code",
   "execution_count": 29,
   "id": "4fbeeaaa",
   "metadata": {},
   "outputs": [],
   "source": [
    "doc_4='''Yellow butter, purple jelly, red jam, black bread.\n",
    "Spread it thick, say it quick!\n",
    "Yellow butter, purple jelly, red jam, black bread.\n",
    "Spread it thicker, say it quicker!\n",
    "Yellow butter, purple jelly, red jam, black bread.\n",
    "Don’t eat with your mouth full!'''"
   ]
  },
  {
   "cell_type": "code",
   "execution_count": 30,
   "id": "6764f697",
   "metadata": {},
   "outputs": [],
   "source": [
    "df=pd.DataFrame({'docs':[doc_0, doc_1, doc_2, doc_3, doc_4]})"
   ]
  },
  {
   "cell_type": "code",
   "execution_count": 31,
   "id": "7ff58835",
   "metadata": {},
   "outputs": [
    {
     "data": {
      "text/html": [
       "<div>\n",
       "<style scoped>\n",
       "    .dataframe tbody tr th:only-of-type {\n",
       "        vertical-align: middle;\n",
       "    }\n",
       "\n",
       "    .dataframe tbody tr th {\n",
       "        vertical-align: top;\n",
       "    }\n",
       "\n",
       "    .dataframe thead th {\n",
       "        text-align: right;\n",
       "    }\n",
       "</style>\n",
       "<table border=\"1\" class=\"dataframe\">\n",
       "  <thead>\n",
       "    <tr style=\"text-align: right;\">\n",
       "      <th></th>\n",
       "      <th>docs</th>\n",
       "    </tr>\n",
       "  </thead>\n",
       "  <tbody>\n",
       "    <tr>\n",
       "      <th>0</th>\n",
       "      <td>Peter&lt;b&gt;, Piper picked a peck of pickled pepp...</td>\n",
       "    </tr>\n",
       "    <tr>\n",
       "      <th>1</th>\n",
       "      <td>1234567How much wood would a woodchuck chuck\\n...</td>\n",
       "    </tr>\n",
       "    <tr>\n",
       "      <th>2</th>\n",
       "      <td>She sells seashells on the seashore.\\nThe shel...</td>\n",
       "    </tr>\n",
       "    <tr>\n",
       "      <th>3</th>\n",
       "      <td>Birdie birdie in the sky laid a turdie in my e...</td>\n",
       "    </tr>\n",
       "    <tr>\n",
       "      <th>4</th>\n",
       "      <td>Yellow butter, purple jelly, red jam, black br...</td>\n",
       "    </tr>\n",
       "  </tbody>\n",
       "</table>\n",
       "</div>"
      ],
      "text/plain": [
       "                                                docs\n",
       "0   Peter<b>, Piper picked a peck of pickled pepp...\n",
       "1  1234567How much wood would a woodchuck chuck\\n...\n",
       "2  She sells seashells on the seashore.\\nThe shel...\n",
       "3  Birdie birdie in the sky laid a turdie in my e...\n",
       "4  Yellow butter, purple jelly, red jam, black br..."
      ]
     },
     "execution_count": 31,
     "metadata": {},
     "output_type": "execute_result"
    }
   ],
   "source": [
    "df.copy()"
   ]
  },
  {
   "cell_type": "markdown",
   "id": "dfa803cd",
   "metadata": {},
   "source": [
    "# Converting to uniform case"
   ]
  },
  {
   "cell_type": "code",
   "execution_count": 32,
   "id": "a428e6db",
   "metadata": {},
   "outputs": [
    {
     "data": {
      "text/plain": [
       "0     peter<b>, piper picked a peck of pickled pepp...\n",
       "1    1234567how much wood would a woodchuck chuck\\n...\n",
       "2    she sells seashells on the seashore.\\nthe shel...\n",
       "3    birdie birdie in the sky laid a turdie in my e...\n",
       "4    yellow butter, purple jelly, red jam, black br...\n",
       "Name: docs, dtype: object"
      ]
     },
     "execution_count": 32,
     "metadata": {},
     "output_type": "execute_result"
    }
   ],
   "source": [
    "df['docs'].str.lower()"
   ]
  },
  {
   "cell_type": "markdown",
   "id": "5d98fe45",
   "metadata": {},
   "source": [
    "- or "
   ]
  },
  {
   "cell_type": "code",
   "execution_count": 33,
   "id": "f5f58c37",
   "metadata": {},
   "outputs": [],
   "source": [
    "def lowerCaseConversion(x):\n",
    "    return x.str.lower()"
   ]
  },
  {
   "cell_type": "code",
   "execution_count": 34,
   "id": "af15b2f3",
   "metadata": {},
   "outputs": [],
   "source": [
    "df['docs']=lowerCaseConversion(df['docs'])"
   ]
  },
  {
   "cell_type": "code",
   "execution_count": 35,
   "id": "710a1328",
   "metadata": {},
   "outputs": [
    {
     "data": {
      "text/html": [
       "<div>\n",
       "<style scoped>\n",
       "    .dataframe tbody tr th:only-of-type {\n",
       "        vertical-align: middle;\n",
       "    }\n",
       "\n",
       "    .dataframe tbody tr th {\n",
       "        vertical-align: top;\n",
       "    }\n",
       "\n",
       "    .dataframe thead th {\n",
       "        text-align: right;\n",
       "    }\n",
       "</style>\n",
       "<table border=\"1\" class=\"dataframe\">\n",
       "  <thead>\n",
       "    <tr style=\"text-align: right;\">\n",
       "      <th></th>\n",
       "      <th>docs</th>\n",
       "    </tr>\n",
       "  </thead>\n",
       "  <tbody>\n",
       "    <tr>\n",
       "      <th>0</th>\n",
       "      <td>peter&lt;b&gt;, piper picked a peck of pickled pepp...</td>\n",
       "    </tr>\n",
       "    <tr>\n",
       "      <th>1</th>\n",
       "      <td>1234567how much wood would a woodchuck chuck\\n...</td>\n",
       "    </tr>\n",
       "    <tr>\n",
       "      <th>2</th>\n",
       "      <td>she sells seashells on the seashore.\\nthe shel...</td>\n",
       "    </tr>\n",
       "    <tr>\n",
       "      <th>3</th>\n",
       "      <td>birdie birdie in the sky laid a turdie in my e...</td>\n",
       "    </tr>\n",
       "    <tr>\n",
       "      <th>4</th>\n",
       "      <td>yellow butter, purple jelly, red jam, black br...</td>\n",
       "    </tr>\n",
       "  </tbody>\n",
       "</table>\n",
       "</div>"
      ],
      "text/plain": [
       "                                                docs\n",
       "0   peter<b>, piper picked a peck of pickled pepp...\n",
       "1  1234567how much wood would a woodchuck chuck\\n...\n",
       "2  she sells seashells on the seashore.\\nthe shel...\n",
       "3  birdie birdie in the sky laid a turdie in my e...\n",
       "4  yellow butter, purple jelly, red jam, black br..."
      ]
     },
     "execution_count": 35,
     "metadata": {},
     "output_type": "execute_result"
    }
   ],
   "source": [
    "df"
   ]
  },
  {
   "cell_type": "markdown",
   "id": "c0e5f51d",
   "metadata": {},
   "source": [
    "### handling html tags"
   ]
  },
  {
   "cell_type": "code",
   "execution_count": 36,
   "id": "56c2fc45",
   "metadata": {},
   "outputs": [
    {
     "data": {
      "text/plain": [
       "'Hello'"
      ]
     },
     "execution_count": 36,
     "metadata": {},
     "output_type": "execute_result"
    }
   ],
   "source": [
    "x ='<b>Hello</b>'\n",
    "re.sub(r'<.*?>','',x)"
   ]
  },
  {
   "cell_type": "code",
   "execution_count": 37,
   "id": "18fab23d",
   "metadata": {},
   "outputs": [],
   "source": [
    "def removeTags(x):\n",
    "    return re.sub(r'<.*?>','',x)"
   ]
  },
  {
   "cell_type": "code",
   "execution_count": 38,
   "id": "25b63585",
   "metadata": {},
   "outputs": [],
   "source": [
    "df['docs']= df['docs'].apply(removeTags)"
   ]
  },
  {
   "cell_type": "code",
   "execution_count": 39,
   "id": "523dbf5f",
   "metadata": {},
   "outputs": [],
   "source": [
    "x='crossing carefully. https://www'"
   ]
  },
  {
   "cell_type": "code",
   "execution_count": 40,
   "id": "721ca541",
   "metadata": {},
   "outputs": [
    {
     "data": {
      "text/plain": [
       "'.sll'"
      ]
     },
     "execution_count": 40,
     "metadata": {},
     "output_type": "execute_result"
    }
   ],
   "source": [
    "df['docs'][2][:-5:-1]"
   ]
  },
  {
   "cell_type": "code",
   "execution_count": 41,
   "id": "9e6f1eff",
   "metadata": {},
   "outputs": [
    {
     "data": {
      "text/plain": [
       "0     peter, piper picked a peck of pickled peppers...\n",
       "1    1234567how much wood would a woodchuck chuck\\n...\n",
       "2    she sells seashells on the seashore.\\nthe shel...\n",
       "3    birdie birdie in the sky laid a turdie in my e...\n",
       "4    yellow butter, purple jelly, red jam, black br...\n",
       "Name: docs, dtype: object"
      ]
     },
     "execution_count": 41,
     "metadata": {},
     "output_type": "execute_result"
    }
   ],
   "source": [
    "df['docs']"
   ]
  },
  {
   "cell_type": "code",
   "execution_count": 42,
   "id": "75b282ab",
   "metadata": {},
   "outputs": [
    {
     "data": {
      "text/plain": [
       "' peter, piper picked a peck of pickled peppers;\\na peck of pickled peppers peter piper picked;\\nif peter piper picked a peck of pickled peppers,\\nwhere’s the peck of pickled peppers peter piper picked.'"
      ]
     },
     "execution_count": 42,
     "metadata": {},
     "output_type": "execute_result"
    }
   ],
   "source": [
    "df['docs'][0]"
   ]
  },
  {
   "cell_type": "code",
   "execution_count": 43,
   "id": "d1d9d567",
   "metadata": {},
   "outputs": [],
   "source": [
    "def handlingNewlineChar(x):\n",
    "    return re.sub(r'\\n', ' ', x)"
   ]
  },
  {
   "cell_type": "code",
   "execution_count": 44,
   "id": "9651c47f",
   "metadata": {},
   "outputs": [
    {
     "data": {
      "text/plain": [
       "' peter, piper picked a peck of pickled peppers; a peck of pickled peppers peter piper picked; if peter piper picked a peck of pickled peppers, where’s the peck of pickled peppers peter piper picked.'"
      ]
     },
     "execution_count": 44,
     "metadata": {},
     "output_type": "execute_result"
    }
   ],
   "source": [
    "df['docs']=df['docs'].apply(handlingNewlineChar)\n",
    "df['docs'][0]"
   ]
  },
  {
   "cell_type": "markdown",
   "id": "62976947",
   "metadata": {},
   "source": [
    "## Handling Spechars and Numbers"
   ]
  },
  {
   "cell_type": "code",
   "execution_count": 45,
   "id": "400ba9a8",
   "metadata": {},
   "outputs": [
    {
     "data": {
      "text/plain": [
       "'12@Heloo_**9.9Hi   '"
      ]
     },
     "execution_count": 45,
     "metadata": {},
     "output_type": "execute_result"
    }
   ],
   "source": [
    "x = '12@Heloo_**9.9Hi   '\n",
    "re.sub(r'^[a-zA-Z]', ' ', x)"
   ]
  },
  {
   "cell_type": "code",
   "execution_count": 46,
   "id": "3e748224",
   "metadata": {},
   "outputs": [
    {
     "data": {
      "text/plain": [
       "' 2@Heloo_**9Hi   '"
      ]
     },
     "execution_count": 46,
     "metadata": {},
     "output_type": "execute_result"
    }
   ],
   "source": [
    "x = '12@Heloo_**9Hi   '\n",
    "re.sub(r'^[a-zA-Z0-9]', ' ', x)"
   ]
  },
  {
   "cell_type": "code",
   "execution_count": 47,
   "id": "a4188a29",
   "metadata": {},
   "outputs": [
    {
     "data": {
      "text/plain": [
       "900000000000000.0"
      ]
     },
     "execution_count": 47,
     "metadata": {},
     "output_type": "execute_result"
    }
   ],
   "source": [
    "9e14"
   ]
  },
  {
   "cell_type": "code",
   "execution_count": 48,
   "id": "97534888",
   "metadata": {},
   "outputs": [
    {
     "data": {
      "text/plain": [
       "'12@Heloo_**9Hi   '"
      ]
     },
     "execution_count": 48,
     "metadata": {},
     "output_type": "execute_result"
    }
   ],
   "source": [
    "x = '12@Heloo_**9Hi   '\n",
    "re.sub(r'^[a-zA-Z0 - 9]', ' ', x)"
   ]
  },
  {
   "cell_type": "code",
   "execution_count": 49,
   "id": "05092ce8",
   "metadata": {},
   "outputs": [
    {
     "data": {
      "text/plain": [
       "' 2@Heloo_**9Hi   '"
      ]
     },
     "execution_count": 49,
     "metadata": {},
     "output_type": "execute_result"
    }
   ],
   "source": [
    "x = '12@Heloo_**9Hi   '\n",
    "re.sub(r'^[a-zA-Z0-9]', ' ', x)"
   ]
  },
  {
   "cell_type": "markdown",
   "id": "23b01e17",
   "metadata": {},
   "source": [
    "### I want numbers negative numbers float values while removing special characters"
   ]
  },
  {
   "cell_type": "code",
   "execution_count": 50,
   "id": "22d8a0c7",
   "metadata": {},
   "outputs": [],
   "source": [
    "x = '12@Heloo_**9Hi   '\n",
    "re.sub(r'^[a-zA-Z0-9]', ' ', x)\n",
    "\n",
    "def removingSpeCharsAndNumbers(x):\n",
    "    return re.sub(r'[^a-zA-A-Z]', ' ', x)\n",
    "    "
   ]
  },
  {
   "cell_type": "code",
   "execution_count": 51,
   "id": "7c160a61",
   "metadata": {},
   "outputs": [],
   "source": [
    "df['docs']=df['docs'].apply(removingSpeCharsAndNumbers)"
   ]
  },
  {
   "cell_type": "code",
   "execution_count": 52,
   "id": "ed045952",
   "metadata": {},
   "outputs": [
    {
     "data": {
      "text/plain": [
       "' peter  piper picked a peck of pickled peppers  a peck of pickled peppers peter piper picked  if peter piper picked a peck of pickled peppers  where s the peck of pickled peppers peter piper picked '"
      ]
     },
     "execution_count": 52,
     "metadata": {},
     "output_type": "execute_result"
    }
   ],
   "source": [
    "df['docs'][0]"
   ]
  },
  {
   "cell_type": "code",
   "execution_count": 53,
   "id": "f89b2012",
   "metadata": {},
   "outputs": [
    {
     "data": {
      "text/plain": [
       "9e-14"
      ]
     },
     "execution_count": 53,
     "metadata": {},
     "output_type": "execute_result"
    }
   ],
   "source": [
    "9e-14"
   ]
  },
  {
   "cell_type": "code",
   "execution_count": 54,
   "id": "4a324c7d",
   "metadata": {},
   "outputs": [
    {
     "data": {
      "text/plain": [
       "'hi hello'"
      ]
     },
     "execution_count": 54,
     "metadata": {},
     "output_type": "execute_result"
    }
   ],
   "source": [
    "'hi hello'"
   ]
  },
  {
   "cell_type": "markdown",
   "id": "d5584d3a",
   "metadata": {},
   "source": [
    "# Removing Stopwords"
   ]
  },
  {
   "cell_type": "code",
   "execution_count": 55,
   "id": "b1d729fa",
   "metadata": {},
   "outputs": [],
   "source": [
    "#!pip install nltk"
   ]
  },
  {
   "cell_type": "code",
   "execution_count": 56,
   "id": "10ba81da",
   "metadata": {},
   "outputs": [
    {
     "ename": "NameError",
     "evalue": "name 'nltk' is not defined",
     "output_type": "error",
     "traceback": [
      "\u001b[1;31m---------------------------------------------------------------------------\u001b[0m",
      "\u001b[1;31mNameError\u001b[0m                                 Traceback (most recent call last)",
      "Cell \u001b[1;32mIn[56], line 2\u001b[0m\n\u001b[0;32m      1\u001b[0m \u001b[38;5;28;01mfrom\u001b[39;00m \u001b[38;5;21;01mnltk\u001b[39;00m\u001b[38;5;21;01m.\u001b[39;00m\u001b[38;5;21;01mcorpus\u001b[39;00m \u001b[38;5;28;01mimport\u001b[39;00m stopwords\n\u001b[1;32m----> 2\u001b[0m \u001b[43mnltk\u001b[49m\u001b[38;5;241m.\u001b[39mdownload(\u001b[38;5;124m'\u001b[39m\u001b[38;5;124mstopwords\u001b[39m\u001b[38;5;124m'\u001b[39m)\n",
      "\u001b[1;31mNameError\u001b[0m: name 'nltk' is not defined"
     ]
    }
   ],
   "source": [
    "from nltk.corpus import stopwords\n",
    "nltk.download('stopwords')"
   ]
  },
  {
   "cell_type": "code",
   "execution_count": null,
   "id": "9c8cc5c7",
   "metadata": {},
   "outputs": [],
   "source": [
    "print(dir(stopwords))"
   ]
  },
  {
   "cell_type": "code",
   "execution_count": null,
   "id": "6dff9089",
   "metadata": {},
   "outputs": [],
   "source": [
    "stopwords.words('English')"
   ]
  },
  {
   "cell_type": "code",
   "execution_count": null,
   "id": "3ba1b188",
   "metadata": {},
   "outputs": [],
   "source": [
    "stopwords.words('French')"
   ]
  },
  {
   "cell_type": "code",
   "execution_count": null,
   "id": "eecda963",
   "metadata": {},
   "outputs": [],
   "source": [
    "stopwords.words('Spanish')"
   ]
  },
  {
   "cell_type": "code",
   "execution_count": null,
   "id": "48382d21",
   "metadata": {},
   "outputs": [],
   "source": [
    "print(len(stopwords.words('english')), stopwords.words('english'))"
   ]
  },
  {
   "cell_type": "code",
   "execution_count": null,
   "id": "602b3d77",
   "metadata": {},
   "outputs": [],
   "source": [
    "help(stopwords.words)"
   ]
  },
  {
   "cell_type": "code",
   "execution_count": null,
   "id": "39f68afb",
   "metadata": {},
   "outputs": [],
   "source": [
    "x='Myself Arnold, You might have heard my name'"
   ]
  },
  {
   "cell_type": "code",
   "execution_count": null,
   "id": "1435443b",
   "metadata": {},
   "outputs": [],
   "source": [
    "x"
   ]
  },
  {
   "cell_type": "code",
   "execution_count": null,
   "id": "d0f8ee8d",
   "metadata": {},
   "outputs": [],
   "source": [
    "x=x.split()"
   ]
  },
  {
   "cell_type": "code",
   "execution_count": null,
   "id": "ce9d2c88",
   "metadata": {},
   "outputs": [],
   "source": [
    "x"
   ]
  },
  {
   "cell_type": "code",
   "execution_count": null,
   "id": "f186c610",
   "metadata": {},
   "outputs": [],
   "source": [
    "print(stopwords.words('english'))"
   ]
  },
  {
   "cell_type": "code",
   "execution_count": null,
   "id": "414d1b70",
   "metadata": {},
   "outputs": [],
   "source": [
    "z= []\n",
    "for ele in x:\n",
    "    if ele in stopwords.words('english'):\n",
    "        z.append(ele)"
   ]
  },
  {
   "cell_type": "code",
   "execution_count": null,
   "id": "554b6a48",
   "metadata": {},
   "outputs": [],
   "source": [
    "' '.join(z)"
   ]
  },
  {
   "cell_type": "code",
   "execution_count": null,
   "id": "cab73369",
   "metadata": {},
   "outputs": [],
   "source": [
    "def removeStopWords(x):\n",
    "    import nltk\n",
    "    nltk.download('stopwords')\n",
    "    from nltk.corpus import stopwords"
   ]
  },
  {
   "cell_type": "code",
   "execution_count": null,
   "id": "58e42b89",
   "metadata": {},
   "outputs": [],
   "source": [
    "z=[]\n",
    "\n",
    "for ele in x.split():\n",
    "    if ele not in stopwords.words('english'):\n",
    "        z.append(ele)\n",
    "return ' '.join(z)"
   ]
  },
  {
   "cell_type": "code",
   "execution_count": null,
   "id": "ff718b44",
   "metadata": {},
   "outputs": [],
   "source": []
  },
  {
   "cell_type": "code",
   "execution_count": null,
   "id": "c932c7f9",
   "metadata": {},
   "outputs": [],
   "source": [
    "def stopword(x):\n",
    "    import nltk\n",
    "    nltk.download('stopwords')\n",
    "    from nltk.corpus import stopwords\n",
    "    z=[]\n",
    "    for ele in x.split():\n",
    "        if ele not in stopwords.words('english'):\n",
    "            z.append(ele)\n",
    "    return ' '.join(z)"
   ]
  },
  {
   "cell_type": "code",
   "execution_count": null,
   "id": "cf98f42d",
   "metadata": {},
   "outputs": [],
   "source": [
    "df['docs']=df['docs'].apply(stopword)"
   ]
  },
  {
   "cell_type": "code",
   "execution_count": null,
   "id": "aa8efa6b",
   "metadata": {},
   "outputs": [],
   "source": [
    "df['docs']"
   ]
  },
  {
   "cell_type": "markdown",
   "id": "b2a63778",
   "metadata": {},
   "source": [
    "#### Stemming is the process of getting different morphological variations given a root word. The root word is also called the stem and hence the name stemming. For example, for the word ‘like’, we can have different forms such as ‘likes’, ‘likely’, ‘liking’, etc. And we can also have the words such as ‘lik’ which is not a technical English word. This feature helps us search for words in search engines and other applications easier. The programs are written for the process of stemming using the algorithms called stemming algorithms or stemmers. Most of these are based on rules applying to suffix-stripping. One of them which is the most common is the Porter-Stemmer12. To implement stemming using Python, we use the nltk module1. We can import this module by writing the below statement:\n",
    "\n"
   ]
  },
  {
   "cell_type": "code",
   "execution_count": 57,
   "id": "20c07846",
   "metadata": {},
   "outputs": [],
   "source": [
    "import nltk\n"
   ]
  },
  {
   "cell_type": "code",
   "execution_count": 58,
   "id": "448edc36",
   "metadata": {},
   "outputs": [
    {
     "name": "stdout",
     "output_type": "stream",
     "text": [
      "run  :  run\n",
      "ran  :  ran\n",
      "running  :  run\n"
     ]
    }
   ],
   "source": [
    "from nltk.stem import PorterStemmer\n",
    "from nltk.tokenize import word_tokenize\n",
    "\n",
    "ps = PorterStemmer() #creating an instance of the class\n",
    "# creating a list of some words to be stemmed\n",
    "words = ['run','ran','running']\n",
    "for x in words:\n",
    "    print(x, \" : \", ps.stem(x))\n"
   ]
  },
  {
   "cell_type": "code",
   "execution_count": 59,
   "id": "ca09e362",
   "metadata": {},
   "outputs": [],
   "source": [
    "from nltk.stem import SnowballStemmer\n",
    "stemmer = SnowballStemmer('english')"
   ]
  },
  {
   "cell_type": "code",
   "execution_count": 60,
   "id": "9781e8fe",
   "metadata": {},
   "outputs": [
    {
     "name": "stdout",
     "output_type": "stream",
     "text": [
      "['__abstractmethods__', '__class__', '__delattr__', '__dict__', '__dir__', '__doc__', '__eq__', '__format__', '__ge__', '__getattribute__', '__gt__', '__hash__', '__init__', '__init_subclass__', '__le__', '__lt__', '__module__', '__ne__', '__new__', '__reduce__', '__reduce_ex__', '__repr__', '__setattr__', '__sizeof__', '__str__', '__subclasshook__', '__weakref__', '_abc_impl', 'languages', 'stem', 'stemmer', 'stopwords']\n"
     ]
    }
   ],
   "source": [
    "print(dir(stemmer))"
   ]
  },
  {
   "cell_type": "code",
   "execution_count": 61,
   "id": "21f7080a",
   "metadata": {},
   "outputs": [
    {
     "data": {
      "text/plain": [
       "'unplay'"
      ]
     },
     "execution_count": 61,
     "metadata": {},
     "output_type": "execute_result"
    }
   ],
   "source": [
    "stemmer.stem('unplayable')"
   ]
  },
  {
   "cell_type": "markdown",
   "id": "af33466f",
   "metadata": {},
   "source": [
    "### Lemmantiziation"
   ]
  },
  {
   "cell_type": "code",
   "execution_count": 62,
   "id": "dfcdc1f4",
   "metadata": {},
   "outputs": [],
   "source": [
    "from nltk.stem import WordNetLemmatizer"
   ]
  },
  {
   "cell_type": "code",
   "execution_count": 63,
   "id": "41b32d4b",
   "metadata": {},
   "outputs": [
    {
     "name": "stderr",
     "output_type": "stream",
     "text": [
      "[nltk_data] Downloading package wordnet to\n",
      "[nltk_data]     C:\\Users\\alexa\\AppData\\Roaming\\nltk_data...\n",
      "[nltk_data]   Package wordnet is already up-to-date!\n"
     ]
    },
    {
     "data": {
      "text/plain": [
       "True"
      ]
     },
     "execution_count": 63,
     "metadata": {},
     "output_type": "execute_result"
    }
   ],
   "source": [
    "nltk.download('wordnet')"
   ]
  },
  {
   "cell_type": "code",
   "execution_count": 64,
   "id": "59d742a8",
   "metadata": {},
   "outputs": [
    {
     "name": "stderr",
     "output_type": "stream",
     "text": [
      "[nltk_data] Downloading package omw-1.4 to\n",
      "[nltk_data]     C:\\Users\\alexa\\AppData\\Roaming\\nltk_data...\n",
      "[nltk_data]   Package omw-1.4 is already up-to-date!\n"
     ]
    },
    {
     "data": {
      "text/plain": [
       "True"
      ]
     },
     "execution_count": 64,
     "metadata": {},
     "output_type": "execute_result"
    }
   ],
   "source": [
    "nltk.download('omw-1.4')"
   ]
  },
  {
   "cell_type": "code",
   "execution_count": 65,
   "id": "8551c638",
   "metadata": {},
   "outputs": [],
   "source": [
    "lem=WordNetLemmatizer()"
   ]
  },
  {
   "cell_type": "code",
   "execution_count": 66,
   "id": "1a29d512",
   "metadata": {},
   "outputs": [
    {
     "name": "stdout",
     "output_type": "stream",
     "text": [
      "['__class__', '__delattr__', '__dict__', '__dir__', '__doc__', '__eq__', '__format__', '__ge__', '__getattribute__', '__gt__', '__hash__', '__init__', '__init_subclass__', '__le__', '__lt__', '__module__', '__ne__', '__new__', '__reduce__', '__reduce_ex__', '__repr__', '__setattr__', '__sizeof__', '__str__', '__subclasshook__', '__weakref__', 'lemmatize']\n"
     ]
    }
   ],
   "source": [
    "print(dir(lem))"
   ]
  },
  {
   "cell_type": "code",
   "execution_count": 67,
   "id": "faf147f7",
   "metadata": {},
   "outputs": [
    {
     "data": {
      "text/plain": [
       "'unplayable'"
      ]
     },
     "execution_count": 67,
     "metadata": {},
     "output_type": "execute_result"
    }
   ],
   "source": [
    "lem.lemmatize('unplayable')"
   ]
  },
  {
   "cell_type": "markdown",
   "id": "c4f09483",
   "metadata": {},
   "source": [
    "# todays task write a regex function which handles numbers convert everything into function which we have done today"
   ]
  },
  {
   "cell_type": "code",
   "execution_count": 68,
   "id": "da6bd3ad",
   "metadata": {},
   "outputs": [],
   "source": [
    "import nltk\n",
    "from nltk.stem import PorterStemmer, WordNetLemmatizer\n",
    "from nltk.corpus import stopwords\n",
    "\n",
    "def stem_and_lemmatize(text):\n",
    "    # Tokenize the text into words\n",
    "    words = nltk.word_tokenize(text)\n",
    "    \n",
    "    # Remove stop words\n",
    "    stop_words = set(stopwords.words('english'))\n",
    "    words = [word for word in words if word.lower() not in stop_words]\n",
    "    \n",
    "    # Stem the words\n",
    "    stemmer = PorterStemmer()\n",
    "    stemmed_words = [stemmer.stem(word) for word in words]\n",
    "    \n",
    "    # Lemmatize the words\n",
    "    lemmatizer = WordNetLemmatizer()\n",
    "    lemmatized_words = [lemmatizer.lemmatize(word) for word in stemmed_words]\n",
    "    \n",
    "    return lemmatized_words\n"
   ]
  },
  {
   "cell_type": "code",
   "execution_count": 69,
   "id": "cb7bcfdf",
   "metadata": {},
   "outputs": [],
   "source": [
    "import nltk\n",
    "from nltk.stem import PorterStemmer\n",
    "\n",
    "def stem_words(text):\n",
    "    # Tokenize the text into words\n",
    "    words = nltk.word_tokenize(text)\n",
    "    \n",
    "    # Stem the words\n",
    "    stemmer = PorterStemmer()\n",
    "    stemmed_words = [stemmer.stem(word) for word in words]\n",
    "    \n",
    "    return stemmed_words\n"
   ]
  },
  {
   "cell_type": "code",
   "execution_count": 70,
   "id": "da88f3c2",
   "metadata": {},
   "outputs": [],
   "source": [
    "def stem(x):\n",
    "    z=[]\n",
    "    for ele in x.split():\n",
    "        z.append(lem.lemmatize(ele))\n",
    "    return ' '.join(z)"
   ]
  },
  {
   "cell_type": "code",
   "execution_count": 71,
   "id": "98a190ed",
   "metadata": {},
   "outputs": [],
   "source": [
    "def lemmatize(x):\n",
    "    z=[]\n",
    "    for ele in x.split():\n",
    "        z.append(lem.lemmatize(ele))\n",
    "    return ' '.join(z)"
   ]
  },
  {
   "cell_type": "code",
   "execution_count": 72,
   "id": "c62d890d",
   "metadata": {},
   "outputs": [],
   "source": [
    "def lemmatizer(x):\n",
    "    z=[]\n",
    "    for ele in x.split():\n",
    "        z.append(lem.lemmatize(ele))\n",
    "    return ' '.join(z)\n",
    "    "
   ]
  },
  {
   "cell_type": "code",
   "execution_count": 73,
   "id": "d5b7efe3",
   "metadata": {},
   "outputs": [
    {
     "data": {
      "text/html": [
       "<div>\n",
       "<style scoped>\n",
       "    .dataframe tbody tr th:only-of-type {\n",
       "        vertical-align: middle;\n",
       "    }\n",
       "\n",
       "    .dataframe tbody tr th {\n",
       "        vertical-align: top;\n",
       "    }\n",
       "\n",
       "    .dataframe thead th {\n",
       "        text-align: right;\n",
       "    }\n",
       "</style>\n",
       "<table border=\"1\" class=\"dataframe\">\n",
       "  <thead>\n",
       "    <tr style=\"text-align: right;\">\n",
       "      <th></th>\n",
       "      <th>docs</th>\n",
       "      <th>lemDocs</th>\n",
       "    </tr>\n",
       "  </thead>\n",
       "  <tbody>\n",
       "    <tr>\n",
       "      <th>0</th>\n",
       "      <td>peter  piper picked a peck of pickled peppers...</td>\n",
       "      <td>peter piper picked a peck of pickled pepper a ...</td>\n",
       "    </tr>\n",
       "    <tr>\n",
       "      <th>1</th>\n",
       "      <td>how much wood would a woodchuck chuck i...</td>\n",
       "      <td>how much wood would a woodchuck chuck if a woo...</td>\n",
       "    </tr>\n",
       "    <tr>\n",
       "      <th>2</th>\n",
       "      <td>she sells seashells on the seashore  the shell...</td>\n",
       "      <td>she sell seashell on the seashore the shell sh...</td>\n",
       "    </tr>\n",
       "    <tr>\n",
       "      <th>3</th>\n",
       "      <td>birdie birdie in the sky laid a turdie in my e...</td>\n",
       "      <td>birdie birdie in the sky laid a turdie in my e...</td>\n",
       "    </tr>\n",
       "    <tr>\n",
       "      <th>4</th>\n",
       "      <td>yellow butter  purple jelly  red jam  black br...</td>\n",
       "      <td>yellow butter purple jelly red jam black bread...</td>\n",
       "    </tr>\n",
       "  </tbody>\n",
       "</table>\n",
       "</div>"
      ],
      "text/plain": [
       "                                                docs  \\\n",
       "0   peter  piper picked a peck of pickled peppers...   \n",
       "1         how much wood would a woodchuck chuck i...   \n",
       "2  she sells seashells on the seashore  the shell...   \n",
       "3  birdie birdie in the sky laid a turdie in my e...   \n",
       "4  yellow butter  purple jelly  red jam  black br...   \n",
       "\n",
       "                                             lemDocs  \n",
       "0  peter piper picked a peck of pickled pepper a ...  \n",
       "1  how much wood would a woodchuck chuck if a woo...  \n",
       "2  she sell seashell on the seashore the shell sh...  \n",
       "3  birdie birdie in the sky laid a turdie in my e...  \n",
       "4  yellow butter purple jelly red jam black bread...  "
      ]
     },
     "execution_count": 73,
     "metadata": {},
     "output_type": "execute_result"
    }
   ],
   "source": [
    "df['lemDocs']=df['docs'].apply(lemmatize)\n",
    "df"
   ]
  },
  {
   "cell_type": "code",
   "execution_count": 76,
   "id": "e7fcee46",
   "metadata": {},
   "outputs": [
    {
     "name": "stdout",
     "output_type": "stream",
     "text": [
      "True\n",
      "True\n",
      "True\n",
      "True\n",
      "False\n",
      "False\n"
     ]
    }
   ],
   "source": [
    "import re\n",
    "\n",
    "def is_valid_number(input_str):\n",
    "    # Integer pattern: ^-?\\d+$\n",
    "    integer_pattern = r'^-?\\d+$'\n",
    "    \n",
    "    # Floating point pattern: ^-?\\d+(\\.\\d+)?$\n",
    "    float_pattern = r'^-?\\d+(\\.\\d+)?$'\n",
    "    \n",
    "    if re.match(integer_pattern, input_str) or re.match(float_pattern, input_str):\n",
    "        return True\n",
    "    else:\n",
    "        return False\n",
    "\n",
    "# Test cases\n",
    "print(is_valid_number(\"123\"))      # True\n",
    "print(is_valid_number(\"-45\"))      # True\n",
    "print(is_valid_number(\"3.14\"))     # True\n",
    "print(is_valid_number(\"-0.5\"))     # True\n",
    "print(is_valid_number(\"abc\"))      # False\n",
    "print(is_valid_number(\"12.34.56\")) # False\n"
   ]
  },
  {
   "cell_type": "markdown",
   "id": "33347ca1",
   "metadata": {},
   "source": [
    "### Regex Function that handles Numbers"
   ]
  },
  {
   "cell_type": "code",
   "execution_count": 78,
   "id": "70d88bab",
   "metadata": {},
   "outputs": [
    {
     "name": "stdout",
     "output_type": "stream",
     "text": [
      "False\n",
      "True\n",
      "False\n",
      "True\n"
     ]
    }
   ],
   "source": [
    "import re\n",
    "\n",
    "def contains_numbers(input_str):\n",
    "    # Define a regex pattern to match any digit\n",
    "    pattern = r'\\d'\n",
    "    \n",
    "    # Use re.search to find the first occurrence of a digit in the string\n",
    "    match = re.search(pattern, input_str)\n",
    "    \n",
    "    # If a match is found, return True; otherwise, return False\n",
    "    return bool(match)\n",
    "\n",
    "# Test cases\n",
    "print(contains_numbers(\"Hello, world!\"))  # False\n",
    "print(contains_numbers(\"The price is $42.50\"))  # True\n",
    "print(contains_numbers(\"NoNumbersHere\"))  # False\n",
    "print(contains_numbers(\"12345\"))  # True\n"
   ]
  },
  {
   "cell_type": "markdown",
   "id": "637358b7",
   "metadata": {},
   "source": []
  },
  {
   "cell_type": "code",
   "execution_count": 3,
   "id": "280e6a12",
   "metadata": {},
   "outputs": [],
   "source": [
    "import re\n",
    "\n",
    "def contains_numbers(input_str):\n",
    "    # Define a regex pattern to match any digit\n",
    "    pattern = r'\\d'\n",
    "    \n",
    "    # Use re.search to find the first occurrence of a digit in the string\n",
    "    match = re.search(pattern, input_str)\n",
    "    \n",
    "    # If a match is found, return True; otherwise, return False\n",
    "    return bool(match)\n",
    "\n",
    "# Test the function\n",
    "def test_contains_numbers():\n",
    "    assert contains_numbers(\"Hello, world!\") == False\n",
    "    assert contains_numbers(\"The price is $42.50\") == True\n",
    "    assert contains_numbers(\"NoNumbersHere\") == False\n",
    "    assert contains_numbers(\"12345\") == True\n",
    "\n",
    "# Run the test cases\n",
    "test_contains_numbers()\n"
   ]
  },
  {
   "cell_type": "code",
   "execution_count": null,
   "id": "6fed3d41",
   "metadata": {},
   "outputs": [],
   "source": []
  }
 ],
 "metadata": {
  "kernelspec": {
   "display_name": "Python 3 (ipykernel)",
   "language": "python",
   "name": "python3"
  },
  "language_info": {
   "codemirror_mode": {
    "name": "ipython",
    "version": 3
   },
   "file_extension": ".py",
   "mimetype": "text/x-python",
   "name": "python",
   "nbconvert_exporter": "python",
   "pygments_lexer": "ipython3",
   "version": "3.10.9"
  }
 },
 "nbformat": 4,
 "nbformat_minor": 5
}
